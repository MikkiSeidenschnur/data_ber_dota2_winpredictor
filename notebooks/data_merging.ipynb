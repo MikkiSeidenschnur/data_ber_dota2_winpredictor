{
 "cells": [
  {
   "cell_type": "code",
   "execution_count": 2,
   "metadata": {},
   "outputs": [],
   "source": [
    "import pandas as pd\n",
    "from os import listdir\n",
    "from os.path import isfile, join"
   ]
  },
  {
   "cell_type": "markdown",
   "metadata": {},
   "source": [
    "# Merge Data"
   ]
  },
  {
   "cell_type": "markdown",
   "metadata": {},
   "source": [
    "**1. Find all files on rawdata folder and add it to a list**"
   ]
  },
  {
   "cell_type": "code",
   "execution_count": 3,
   "metadata": {},
   "outputs": [],
   "source": [
    "csv_files = [f for f in listdir(\"../matchesdata/\") if \"matches_ids.csv\" not in f]"
   ]
  },
  {
   "cell_type": "markdown",
   "metadata": {},
   "source": [
    "**2. Use pandas to merge csv files**"
   ]
  },
  {
   "cell_type": "code",
   "execution_count": 4,
   "metadata": {},
   "outputs": [],
   "source": [
    "data = pd.DataFrame(columns=[\"match_id\",\"victor_team\", \"radiant_team\",\"dire_team\"])"
   ]
  },
  {
   "cell_type": "code",
   "execution_count": 5,
   "metadata": {},
   "outputs": [],
   "source": [
    "for file in csv_files:\n",
    "    new = pd.read_csv(f\"../matchesdata/{file}\")\n",
    "    data = data.append(new, ignore_index=True)\n",
    "    data = data.drop_duplicates()"
   ]
  },
  {
   "cell_type": "code",
   "execution_count": 6,
   "metadata": {},
   "outputs": [
    {
     "data": {
      "text/html": [
       "<div>\n",
       "<style scoped>\n",
       "    .dataframe tbody tr th:only-of-type {\n",
       "        vertical-align: middle;\n",
       "    }\n",
       "\n",
       "    .dataframe tbody tr th {\n",
       "        vertical-align: top;\n",
       "    }\n",
       "\n",
       "    .dataframe thead th {\n",
       "        text-align: right;\n",
       "    }\n",
       "</style>\n",
       "<table border=\"1\" class=\"dataframe\">\n",
       "  <thead>\n",
       "    <tr style=\"text-align: right;\">\n",
       "      <th></th>\n",
       "      <th>match_id</th>\n",
       "      <th>victor_team</th>\n",
       "      <th>radiant_team</th>\n",
       "      <th>dire_team</th>\n",
       "    </tr>\n",
       "  </thead>\n",
       "  <tbody>\n",
       "    <tr>\n",
       "      <th>6173</th>\n",
       "      <td>5056075486</td>\n",
       "      <td>Dire</td>\n",
       "      <td>85-114-67-86-38</td>\n",
       "      <td>121-16-25-81-82</td>\n",
       "    </tr>\n",
       "    <tr>\n",
       "      <th>6174</th>\n",
       "      <td>5055123674</td>\n",
       "      <td>Radiant</td>\n",
       "      <td>84-25-38-86-41</td>\n",
       "      <td>31-16-106-33-73</td>\n",
       "    </tr>\n",
       "    <tr>\n",
       "      <th>6175</th>\n",
       "      <td>5051994444</td>\n",
       "      <td>Radiant</td>\n",
       "      <td>64-16-9-46-106</td>\n",
       "      <td>86-41-79-74-104</td>\n",
       "    </tr>\n",
       "    <tr>\n",
       "      <th>6176</th>\n",
       "      <td>5068748635</td>\n",
       "      <td>Dire</td>\n",
       "      <td>10-106-101-28-83</td>\n",
       "      <td>84-11-41-74-62</td>\n",
       "    </tr>\n",
       "    <tr>\n",
       "      <th>6177</th>\n",
       "      <td>5082967195</td>\n",
       "      <td>Radiant</td>\n",
       "      <td>85-66-52-50-49</td>\n",
       "      <td>10-21-40-30-7</td>\n",
       "    </tr>\n",
       "  </tbody>\n",
       "</table>\n",
       "</div>"
      ],
      "text/plain": [
       "        match_id victor_team      radiant_team        dire_team\n",
       "6173  5056075486        Dire   85-114-67-86-38  121-16-25-81-82\n",
       "6174  5055123674     Radiant    84-25-38-86-41  31-16-106-33-73\n",
       "6175  5051994444     Radiant    64-16-9-46-106  86-41-79-74-104\n",
       "6176  5068748635        Dire  10-106-101-28-83   84-11-41-74-62\n",
       "6177  5082967195     Radiant    85-66-52-50-49    10-21-40-30-7"
      ]
     },
     "execution_count": 6,
     "metadata": {},
     "output_type": "execute_result"
    }
   ],
   "source": [
    "data.tail()"
   ]
  },
  {
   "cell_type": "code",
   "execution_count": 8,
   "metadata": {},
   "outputs": [],
   "source": [
    "data.to_csv(\"../data/matches.csv\")"
   ]
  }
 ],
 "metadata": {
  "kernelspec": {
   "display_name": "Python 3.8.3 64-bit ('ironhack': conda)",
   "language": "python",
   "name": "python38364bitironhackcondae22397c42f6b4fd29a9381c81ac70f68"
  },
  "language_info": {
   "codemirror_mode": {
    "name": "ipython",
    "version": 3
   },
   "file_extension": ".py",
   "mimetype": "text/x-python",
   "name": "python",
   "nbconvert_exporter": "python",
   "pygments_lexer": "ipython3",
   "version": "3.8.3"
  }
 },
 "nbformat": 4,
 "nbformat_minor": 4
}
