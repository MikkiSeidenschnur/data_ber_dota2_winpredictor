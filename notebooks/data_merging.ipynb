{
 "cells": [
  {
   "cell_type": "code",
   "execution_count": 12,
   "metadata": {},
   "outputs": [],
   "source": [
    "import pandas as pd\n",
    "from os import listdir\n",
    "from os.path import isfile, join"
   ]
  },
  {
   "cell_type": "markdown",
   "metadata": {},
   "source": [
    "# Merge Data"
   ]
  },
  {
   "cell_type": "markdown",
   "metadata": {},
   "source": [
    "**1. Find all files on rawdata folder and add it to a list**"
   ]
  },
  {
   "cell_type": "code",
   "execution_count": 13,
   "metadata": {},
   "outputs": [],
   "source": [
    "csv_files = [f for f in listdir(\"../matchesdata/\") if \"matches_ids.csv\" not in f]"
   ]
  },
  {
   "cell_type": "markdown",
   "metadata": {},
   "source": [
    "**2. Create column names**"
   ]
  },
  {
   "cell_type": "code",
   "execution_count": 14,
   "metadata": {},
   "outputs": [],
   "source": [
    "data = pd.DataFrame(columns=[\"match_id\",\"victor_team\", \"radiant_team\",\"dire_team\"])"
   ]
  },
  {
   "cell_type": "markdown",
   "metadata": {},
   "source": [
    "**3. Loop for each file on the folder and append to the data frame**"
   ]
  },
  {
   "cell_type": "code",
   "execution_count": 15,
   "metadata": {},
   "outputs": [],
   "source": [
    "for file in csv_files:\n",
    "    new = pd.read_csv(f\"../matchesdata/{file}\")\n",
    "    data = data.append(new, ignore_index=True)\n",
    "    data = data.drop_duplicates()"
   ]
  },
  {
   "cell_type": "code",
   "execution_count": 16,
   "metadata": {},
   "outputs": [
    {
     "data": {
      "text/html": [
       "<div>\n",
       "<style scoped>\n",
       "    .dataframe tbody tr th:only-of-type {\n",
       "        vertical-align: middle;\n",
       "    }\n",
       "\n",
       "    .dataframe tbody tr th {\n",
       "        vertical-align: top;\n",
       "    }\n",
       "\n",
       "    .dataframe thead th {\n",
       "        text-align: right;\n",
       "    }\n",
       "</style>\n",
       "<table border=\"1\" class=\"dataframe\">\n",
       "  <thead>\n",
       "    <tr style=\"text-align: right;\">\n",
       "      <th></th>\n",
       "      <th>match_id</th>\n",
       "      <th>victor_team</th>\n",
       "      <th>radiant_team</th>\n",
       "      <th>dire_team</th>\n",
       "    </tr>\n",
       "  </thead>\n",
       "  <tbody>\n",
       "    <tr>\n",
       "      <th>11290</th>\n",
       "      <td>5155632958</td>\n",
       "      <td>Dire</td>\n",
       "      <td>100-48-20-58-38</td>\n",
       "      <td>86-52-21-47-79</td>\n",
       "    </tr>\n",
       "    <tr>\n",
       "      <th>11291</th>\n",
       "      <td>5144422972</td>\n",
       "      <td>Radiant</td>\n",
       "      <td>112-25-104-102-52</td>\n",
       "      <td>5-13-54-19-53</td>\n",
       "    </tr>\n",
       "    <tr>\n",
       "      <th>11292</th>\n",
       "      <td>5147592969</td>\n",
       "      <td>Radiant</td>\n",
       "      <td>50-51-20-75-52</td>\n",
       "      <td>101-106-63-2-85</td>\n",
       "    </tr>\n",
       "    <tr>\n",
       "      <th>11293</th>\n",
       "      <td>5144697968</td>\n",
       "      <td>Radiant</td>\n",
       "      <td>57-88-13-74-44</td>\n",
       "      <td>84-16-52-46-6</td>\n",
       "    </tr>\n",
       "    <tr>\n",
       "      <th>11294</th>\n",
       "      <td>5178333151</td>\n",
       "      <td>Dire</td>\n",
       "      <td>114-17-28-86-5</td>\n",
       "      <td>23-110-97-96-13</td>\n",
       "    </tr>\n",
       "  </tbody>\n",
       "</table>\n",
       "</div>"
      ],
      "text/plain": [
       "         match_id victor_team       radiant_team        dire_team\n",
       "11290  5155632958        Dire    100-48-20-58-38   86-52-21-47-79\n",
       "11291  5144422972     Radiant  112-25-104-102-52    5-13-54-19-53\n",
       "11292  5147592969     Radiant     50-51-20-75-52  101-106-63-2-85\n",
       "11293  5144697968     Radiant     57-88-13-74-44    84-16-52-46-6\n",
       "11294  5178333151        Dire     114-17-28-86-5  23-110-97-96-13"
      ]
     },
     "execution_count": 16,
     "metadata": {},
     "output_type": "execute_result"
    }
   ],
   "source": [
    "data.tail()"
   ]
  },
  {
   "cell_type": "markdown",
   "metadata": {},
   "source": [
    "**4. Save the merged data file as csv**"
   ]
  },
  {
   "cell_type": "code",
   "execution_count": 18,
   "metadata": {},
   "outputs": [],
   "source": [
    "data.to_csv(\"../data/matches.csv\", index=False)"
   ]
  }
 ],
 "metadata": {
  "kernelspec": {
   "display_name": "Python 3.8.3 64-bit ('ironhack': conda)",
   "language": "python",
   "name": "python38364bitironhackcondae22397c42f6b4fd29a9381c81ac70f68"
  },
  "language_info": {
   "codemirror_mode": {
    "name": "ipython",
    "version": 3
   },
   "file_extension": ".py",
   "mimetype": "text/x-python",
   "name": "python",
   "nbconvert_exporter": "python",
   "pygments_lexer": "ipython3",
   "version": "3.8.3"
  }
 },
 "nbformat": 4,
 "nbformat_minor": 4
}
