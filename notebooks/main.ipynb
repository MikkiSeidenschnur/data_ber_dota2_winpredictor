{
 "cells": [
  {
   "cell_type": "markdown",
   "metadata": {},
   "source": [
    "# Run our function\n",
    "\n",
    "    - Read the matches id csv file.\n",
    "    - Convert it to a list so that we can iterate it.\n",
    "    - Create variables for start and end position.\n",
    "    - Make a while loop and handle errors by waiting 5 seconds to retry.\n",
    "    - Run the function within the range assignated."
   ]
  },
  {
   "cell_type": "code",
   "execution_count": null,
   "metadata": {},
   "outputs": [],
   "source": [
    "import source.match_miner as mm\n",
    "import time\n",
    "import pandas as pd\n",
    "\n",
    "id_list = pd.read_csv(\"matchesdata/matches_ids.csv\")\n",
    "id_list = id_list[\"match_id\"].values.tolist()\n",
    "\n",
    "\n",
    "# adjust to start where you want.\n",
    "from_position = 0\n",
    "until_position = 5000\n",
    "\n",
    "while from_position < until_position:\n",
    "    try:\n",
    "        mm.get_matches_data(\n",
    "            id_list[from_position:until_position], \"matchesdata/\")\n",
    "        from_position += 1\n",
    "    except:\n",
    "        print(\"trying again...\")\n",
    "        time.sleep(5)"
   ]
  }
 ],
 "metadata": {
  "kernelspec": {
   "display_name": "Python 3.8.3 64-bit ('ironhack': conda)",
   "language": "python",
   "name": "python38364bitironhackcondae22397c42f6b4fd29a9381c81ac70f68"
  },
  "language_info": {
   "codemirror_mode": {
    "name": "ipython",
    "version": 3
   },
   "file_extension": ".py",
   "mimetype": "text/x-python",
   "name": "python",
   "nbconvert_exporter": "python",
   "pygments_lexer": "ipython3",
   "version": "3.8.3"
  }
 },
 "nbformat": 4,
 "nbformat_minor": 4
}
