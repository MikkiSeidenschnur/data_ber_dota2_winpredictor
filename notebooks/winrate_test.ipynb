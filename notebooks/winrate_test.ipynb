{
 "cells": [
  {
   "cell_type": "code",
   "execution_count": 31,
   "metadata": {},
   "outputs": [],
   "source": [
    "import pandas as pd\n",
    "import numpy as np"
   ]
  },
  {
   "cell_type": "code",
   "execution_count": 60,
   "metadata": {},
   "outputs": [
    {
     "data": {
      "text/html": [
       "<div>\n",
       "<style scoped>\n",
       "    .dataframe tbody tr th:only-of-type {\n",
       "        vertical-align: middle;\n",
       "    }\n",
       "\n",
       "    .dataframe tbody tr th {\n",
       "        vertical-align: top;\n",
       "    }\n",
       "\n",
       "    .dataframe thead th {\n",
       "        text-align: right;\n",
       "    }\n",
       "</style>\n",
       "<table border=\"1\" class=\"dataframe\">\n",
       "  <thead>\n",
       "    <tr style=\"text-align: right;\">\n",
       "      <th></th>\n",
       "      <th>hero</th>\n",
       "      <th>opponent</th>\n",
       "      <th>hero_wins</th>\n",
       "      <th>games_played</th>\n",
       "      <th>win_rate</th>\n",
       "    </tr>\n",
       "  </thead>\n",
       "  <tbody>\n",
       "    <tr>\n",
       "      <th>7998</th>\n",
       "      <td>69</td>\n",
       "      <td>105</td>\n",
       "      <td>1</td>\n",
       "      <td>2</td>\n",
       "      <td>0.5</td>\n",
       "    </tr>\n",
       "  </tbody>\n",
       "</table>\n",
       "</div>"
      ],
      "text/plain": [
       "      hero  opponent  hero_wins  games_played  win_rate\n",
       "7998    69       105          1             2       0.5"
      ]
     },
     "execution_count": 60,
     "metadata": {},
     "output_type": "execute_result"
    }
   ],
   "source": [
    "### Import dataset for winrate \n",
    "winrate_dataframe = pd.read_csv(\"../data/heroes_matchups.csv\")\n",
    "winrate_dataframe.loc[(winrate_dataframe[\"hero\"] == 69) & (winrate_dataframe[\"opponent\"] == 105)]"
   ]
  },
  {
   "cell_type": "code",
   "execution_count": 66,
   "metadata": {},
   "outputs": [
    {
     "data": {
      "text/html": [
       "<div>\n",
       "<style scoped>\n",
       "    .dataframe tbody tr th:only-of-type {\n",
       "        vertical-align: middle;\n",
       "    }\n",
       "\n",
       "    .dataframe tbody tr th {\n",
       "        vertical-align: top;\n",
       "    }\n",
       "\n",
       "    .dataframe thead th {\n",
       "        text-align: right;\n",
       "    }\n",
       "</style>\n",
       "<table border=\"1\" class=\"dataframe\">\n",
       "  <thead>\n",
       "    <tr style=\"text-align: right;\">\n",
       "      <th></th>\n",
       "      <th>match_id</th>\n",
       "      <th>victor_team</th>\n",
       "      <th>radiant_team</th>\n",
       "      <th>dire_team</th>\n",
       "      <th>match_duration</th>\n",
       "    </tr>\n",
       "  </thead>\n",
       "  <tbody>\n",
       "    <tr>\n",
       "      <th>348</th>\n",
       "      <td>5496943702</td>\n",
       "      <td>Dire</td>\n",
       "      <td>[107, 23, 30, 64, 1]</td>\n",
       "      <td>[9, 10, 110, 120, 8]</td>\n",
       "      <td>1793</td>\n",
       "    </tr>\n",
       "    <tr>\n",
       "      <th>349</th>\n",
       "      <td>5496943914</td>\n",
       "      <td>Dire</td>\n",
       "      <td>[34, 126, 65, 95, 64]</td>\n",
       "      <td>[86, 90, 104, 56, 48]</td>\n",
       "      <td>2418</td>\n",
       "    </tr>\n",
       "    <tr>\n",
       "      <th>350</th>\n",
       "      <td>5496944214</td>\n",
       "      <td>Radiant</td>\n",
       "      <td>[9, 48, 106, 14, 83]</td>\n",
       "      <td>[49, 38, 12, 100, 86]</td>\n",
       "      <td>1642</td>\n",
       "    </tr>\n",
       "    <tr>\n",
       "      <th>351</th>\n",
       "      <td>5496945916</td>\n",
       "      <td>Dire</td>\n",
       "      <td>[112, 98, 81, 9, 80]</td>\n",
       "      <td>[36, 42, 126, 100, 3]</td>\n",
       "      <td>1356</td>\n",
       "    </tr>\n",
       "    <tr>\n",
       "      <th>352</th>\n",
       "      <td>5496946503</td>\n",
       "      <td>Dire</td>\n",
       "      <td>[54, 5, 63, 80, 108]</td>\n",
       "      <td>[41, 68, 36, 120, 22]</td>\n",
       "      <td>1491</td>\n",
       "    </tr>\n",
       "  </tbody>\n",
       "</table>\n",
       "</div>"
      ],
      "text/plain": [
       "       match_id victor_team           radiant_team              dire_team  \\\n",
       "348  5496943702        Dire   [107, 23, 30, 64, 1]   [9, 10, 110, 120, 8]   \n",
       "349  5496943914        Dire  [34, 126, 65, 95, 64]  [86, 90, 104, 56, 48]   \n",
       "350  5496944214     Radiant   [9, 48, 106, 14, 83]  [49, 38, 12, 100, 86]   \n",
       "351  5496945916        Dire   [112, 98, 81, 9, 80]  [36, 42, 126, 100, 3]   \n",
       "352  5496946503        Dire   [54, 5, 63, 80, 108]  [41, 68, 36, 120, 22]   \n",
       "\n",
       "     match_duration  \n",
       "348            1793  \n",
       "349            2418  \n",
       "350            1642  \n",
       "351            1356  \n",
       "352            1491  "
      ]
     },
     "execution_count": 66,
     "metadata": {},
     "output_type": "execute_result"
    }
   ],
   "source": [
    "### Import dataset for test\n",
    "test_set = pd.read_csv(\"../data/random_matches_fixed.csv\")\n",
    "test_set.tail()"
   ]
  },
  {
   "cell_type": "code",
   "execution_count": 57,
   "metadata": {},
   "outputs": [],
   "source": []
  }
 ],
 "metadata": {
  "kernelspec": {
   "display_name": "Python 3.8.3 64-bit ('ironhack': conda)",
   "language": "python",
   "name": "python38364bitironhackcondae22397c42f6b4fd29a9381c81ac70f68"
  },
  "language_info": {
   "codemirror_mode": {
    "name": "ipython",
    "version": 3
   },
   "file_extension": ".py",
   "mimetype": "text/x-python",
   "name": "python",
   "nbconvert_exporter": "python",
   "pygments_lexer": "ipython3",
   "version": "3.8.3"
  }
 },
 "nbformat": 4,
 "nbformat_minor": 4
}
