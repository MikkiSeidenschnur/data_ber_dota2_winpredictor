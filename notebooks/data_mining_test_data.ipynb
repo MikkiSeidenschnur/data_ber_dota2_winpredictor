{
 "cells": [
  {
   "cell_type": "code",
   "execution_count": 39,
   "metadata": {},
   "outputs": [],
   "source": [
    "import pandas as pd\n",
    "import numpy as np\n",
    "import requests\n",
    "import json\n",
    "import random, time"
   ]
  },
  {
   "cell_type": "code",
   "execution_count": 119,
   "metadata": {},
   "outputs": [],
   "source": [
    "### get_matches returns a dataframe from the opendota API with given parameters\n",
    "### don't run this too often, as there is a request limit of one per second and 50000 pr. month\n",
    "def get_matches(matches=10000, start_time_less_than=1594771200, mmr_lower=2000, mmr_upper=2500):\n",
    "    # we build the base url for the opendota api \n",
    "    base = 'https://api.opendota.com/api/explorer'\n",
    "    # we create the SQL percent encoded query. The query is as follows\n",
    "    #\"\"\"\n",
    "    #SELECT *\n",
    "    #FROM public_matches\n",
    "    #LEFT JOIN public_player_matches\n",
    "    #ON public_matches.match_id = public_player_matches.match_id\n",
    "    #WHERE lobby_type=7 AND game_mode=22 AND avg_mmr!=0 AND start_time<1594771200\n",
    "    #ORDER BY start_time DESC\n",
    "    #LIMIT 10000\n",
    "    #\"\"\"\n",
    "    matches_request = f'?sql=SELECT%20*%0AFROM%20public_matches%0ALEFT%20JOIN%20public_player_matches%0AON%20public_matches.match_id%20%3D%20public_player_matches.match_id%0AWHERE%20lobby_type%3D7%20AND%20game_mode%3D22%20AND%20avg_mmr!%3D0%20AND%20start_time<{start_time_less_than}%20AND%20avg_mmr>{mmr_lower}%20AND%20avg_mmr<{mmr_upper}%20AND%20hero_id!%3D0%0AORDER%20BY%20start_time%20DESC%0ALIMIT%20{str(matches*10)}'\n",
    "    \n",
    "    url = base + matches_request\n",
    "\n",
    "    result = requests.get(url)\n",
    "    print(result)\n",
    "    j_matches = result.json()\n",
    "\n",
    "    return pd.DataFrame(j_matches[\"rows\"])"
   ]
  },
  {
   "cell_type": "code",
   "execution_count": 120,
   "metadata": {},
   "outputs": [],
   "source": [
    "def practice_data(matches, sleep):\n",
    "    mmr_steps = [i for i in range(1000, 8001) if i%1000 == 0]\n",
    "    mmr_brackets = [[mmr_steps[i], mmr_steps[i+1]] for i in range(len(mmr_steps)) if mmr_steps[i] < 8000]\n",
    "    dataframes = [get_matches(matches, start_time_less_than=1594771200, mmr_lower=lower, mmr_upper=upper) for lower,upper in mmr_brackets if time.sleep(sleep) is None]\n",
    "    \n",
    "    return dataframes\n",
    "    \n",
    "    #for lower,upper in mmr_brackets:\n",
    "    #    practice_data_f\"{lower}\"_f\"{upper}\" = get_matches(matches=100, start_time_less_than=1594771200, mmr_lower=lower, mmr_upper=upper)\n",
    "        \n",
    "        "
   ]
  },
  {
   "cell_type": "code",
   "execution_count": 121,
   "metadata": {},
   "outputs": [],
   "source": [
    "#practice_data(100, 2)"
   ]
  },
  {
   "cell_type": "code",
   "execution_count": 129,
   "metadata": {},
   "outputs": [
    {
     "name": "stdout",
     "output_type": "stream",
     "text": [
      "<Response [200]>\n"
     ]
    }
   ],
   "source": [
    "practice_data_2000_3000 = get_matches(matches=100000, start_time_less_than=1594771200, mmr_lower=2000, mmr_upper=3000)"
   ]
  },
  {
   "cell_type": "code",
   "execution_count": 89,
   "metadata": {},
   "outputs": [
    {
     "name": "stdout",
     "output_type": "stream",
     "text": [
      "<Response [200]>\n"
     ]
    }
   ],
   "source": [
    "practice_data_3000_4000 = get_matches(matches=100000, start_time_less_than=1594771200, mmr_lower=3000, mmr_upper=4000)"
   ]
  },
  {
   "cell_type": "code",
   "execution_count": 104,
   "metadata": {},
   "outputs": [
    {
     "name": "stdout",
     "output_type": "stream",
     "text": [
      "<Response [200]>\n"
     ]
    }
   ],
   "source": [
    "practice_data_no_limit = get_matches(matches=100000, start_time_less_than=1594771200, mmr_lower=0, mmr_upper=10000)"
   ]
  },
  {
   "cell_type": "code",
   "execution_count": 130,
   "metadata": {},
   "outputs": [],
   "source": [
    "practice_data_2000_3000.to_pickle(\"../data/practice_data_2000_3000.pkl\")\n",
    "practice_data_3000_4000.to_pickle(\"../data/practice_data_3000_4000.pkl\")\n",
    "practice_data_no_limit.to_pickle(\"../data/practice_data_no_limit.pkl\")"
   ]
  },
  {
   "cell_type": "markdown",
   "metadata": {},
   "source": [
    "**We now get some test data in those brackets, which we will take from the day after, to avoid duplicates**"
   ]
  },
  {
   "cell_type": "code",
   "execution_count": 106,
   "metadata": {},
   "outputs": [
    {
     "name": "stdout",
     "output_type": "stream",
     "text": [
      "<Response [200]>\n"
     ]
    }
   ],
   "source": [
    "test_data_2000_3000 = get_matches(matches=10000, start_time_less_than=1594857600, mmr_lower=2000, mmr_upper=3000)"
   ]
  },
  {
   "cell_type": "code",
   "execution_count": 107,
   "metadata": {},
   "outputs": [
    {
     "name": "stdout",
     "output_type": "stream",
     "text": [
      "<Response [200]>\n"
     ]
    }
   ],
   "source": [
    "test_data_3000_4000 = get_matches(matches=10000, start_time_less_than=1594857600, mmr_lower=3000, mmr_upper=4000)"
   ]
  },
  {
   "cell_type": "code",
   "execution_count": 108,
   "metadata": {},
   "outputs": [
    {
     "name": "stdout",
     "output_type": "stream",
     "text": [
      "<Response [200]>\n"
     ]
    }
   ],
   "source": [
    "test_data_no_limit = get_matches(matches=10000, start_time_less_than=1594857600, mmr_lower=0, mmr_upper=10000)"
   ]
  },
  {
   "cell_type": "code",
   "execution_count": 109,
   "metadata": {},
   "outputs": [],
   "source": [
    "test_data_2000_3000.to_pickle(\"../data/test_data_2000_3000.pkl\")\n",
    "test_data_3000_4000.to_pickle(\"../data/test_data_3000_4000.pkl\")\n",
    "test_data_no_limit.to_pickle(\"../data/test_data_no_limit.pkl\")"
   ]
  },
  {
   "cell_type": "code",
   "execution_count": null,
   "metadata": {},
   "outputs": [],
   "source": []
  }
 ],
 "metadata": {
  "kernelspec": {
   "display_name": "Python 3",
   "language": "python",
   "name": "python3"
  },
  "language_info": {
   "codemirror_mode": {
    "name": "ipython",
    "version": 3
   },
   "file_extension": ".py",
   "mimetype": "text/x-python",
   "name": "python",
   "nbconvert_exporter": "python",
   "pygments_lexer": "ipython3",
   "version": "3.8.3"
  }
 },
 "nbformat": 4,
 "nbformat_minor": 4
}
