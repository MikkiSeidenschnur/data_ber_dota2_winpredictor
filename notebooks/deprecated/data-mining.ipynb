{
 "cells": [
  {
   "cell_type": "markdown",
   "metadata": {},
   "source": [
    "# DEPRECATED\n",
    "\n",
    "## The data we obtained from this api is not useful so we decided to continue to do it in other way"
   ]
  },
  {
   "cell_type": "code",
   "execution_count": 2,
   "metadata": {},
   "outputs": [],
   "source": [
    "import requests as req\n",
    "from bs4 import BeautifulSoup\n",
    "import pandas as pd\n",
    "import xml\n",
    "import time"
   ]
  },
  {
   "cell_type": "markdown",
   "metadata": {},
   "source": [
    "# Heroes\n",
    "\n",
    "    We need the information of all heroes in the game in order to make a comparison, the data that we need are id, name, role and type."
   ]
  },
  {
   "cell_type": "markdown",
   "metadata": {},
   "source": [
    "**1. Make request to api asking for all heroes info**"
   ]
  },
  {
   "cell_type": "code",
   "execution_count": 98,
   "metadata": {},
   "outputs": [],
   "source": [
    "res = req.get(\"https://api.opendota.com/api/heroes\")"
   ]
  },
  {
   "cell_type": "markdown",
   "metadata": {},
   "source": [
    "**2. Extract the useful data out of the response and store it on a DataFrame object**"
   ]
  },
  {
   "cell_type": "code",
   "execution_count": 102,
   "metadata": {},
   "outputs": [
    {
     "data": {
      "text/html": [
       "<div>\n",
       "<style scoped>\n",
       "    .dataframe tbody tr th:only-of-type {\n",
       "        vertical-align: middle;\n",
       "    }\n",
       "\n",
       "    .dataframe tbody tr th {\n",
       "        vertical-align: top;\n",
       "    }\n",
       "\n",
       "    .dataframe thead th {\n",
       "        text-align: right;\n",
       "    }\n",
       "</style>\n",
       "<table border=\"1\" class=\"dataframe\">\n",
       "  <thead>\n",
       "    <tr style=\"text-align: right;\">\n",
       "      <th></th>\n",
       "      <th>id</th>\n",
       "      <th>name</th>\n",
       "      <th>role</th>\n",
       "      <th>type</th>\n",
       "    </tr>\n",
       "  </thead>\n",
       "  <tbody>\n",
       "    <tr>\n",
       "      <th>0</th>\n",
       "      <td>1</td>\n",
       "      <td>Anti-Mage</td>\n",
       "      <td>Carry</td>\n",
       "      <td>Melee</td>\n",
       "    </tr>\n",
       "    <tr>\n",
       "      <th>1</th>\n",
       "      <td>2</td>\n",
       "      <td>Axe</td>\n",
       "      <td>Initiator</td>\n",
       "      <td>Melee</td>\n",
       "    </tr>\n",
       "    <tr>\n",
       "      <th>2</th>\n",
       "      <td>3</td>\n",
       "      <td>Bane</td>\n",
       "      <td>Support</td>\n",
       "      <td>Ranged</td>\n",
       "    </tr>\n",
       "    <tr>\n",
       "      <th>3</th>\n",
       "      <td>4</td>\n",
       "      <td>Bloodseeker</td>\n",
       "      <td>Carry</td>\n",
       "      <td>Melee</td>\n",
       "    </tr>\n",
       "    <tr>\n",
       "      <th>4</th>\n",
       "      <td>5</td>\n",
       "      <td>Crystal Maiden</td>\n",
       "      <td>Support</td>\n",
       "      <td>Ranged</td>\n",
       "    </tr>\n",
       "  </tbody>\n",
       "</table>\n",
       "</div>"
      ],
      "text/plain": [
       "   id            name       role    type\n",
       "0   1       Anti-Mage      Carry   Melee\n",
       "1   2             Axe  Initiator   Melee\n",
       "2   3            Bane    Support  Ranged\n",
       "3   4     Bloodseeker      Carry   Melee\n",
       "4   5  Crystal Maiden    Support  Ranged"
      ]
     },
     "execution_count": 102,
     "metadata": {},
     "output_type": "execute_result"
    }
   ],
   "source": [
    "heroes = pd.DataFrame(\n",
    "    [{\"id\": hero[\"id\"],\n",
    "      \"name\": hero[\"localized_name\"],\n",
    "      \"role\": hero[\"roles\"][0],\n",
    "      \"type\": hero[\"attack_type\"]} for hero in res.json()])\n",
    "\n",
    "heroes.head()"
   ]
  },
  {
   "cell_type": "markdown",
   "metadata": {},
   "source": [
    "**3. Export the data to a csv file**"
   ]
  },
  {
   "cell_type": "code",
   "execution_count": 114,
   "metadata": {},
   "outputs": [],
   "source": [
    "heroes.to_csv(\"../data/heroes.csv\", index=False)"
   ]
  },
  {
   "cell_type": "markdown",
   "metadata": {},
   "source": [
    "# Matches\n",
    "    \n",
    "    We need random samples of matches in order to compare drafts and winrates, one of the criterias I decided to use was MMR, higher MMR matches tend to be more consistend because the heroes are played next to its average potential which skews our data way less than if we use a bigger range of MMR, for this criteria I used an MMR equal or bigger to 3850 which is classified as Ancient rank or higher."
   ]
  },
  {
   "cell_type": "markdown",
   "metadata": {},
   "source": [
    "**1. Get random sample of matches based on a average mmr of 3850 or bigger**"
   ]
  },
  {
   "cell_type": "code",
   "execution_count": 106,
   "metadata": {},
   "outputs": [],
   "source": [
    "res2 = req.get(\"https://api.opendota.com/api/publicMatches?mmr_descending=3850\")"
   ]
  },
  {
   "cell_type": "markdown",
   "metadata": {},
   "source": [
    "**2. check data received**"
   ]
  },
  {
   "cell_type": "code",
   "execution_count": 111,
   "metadata": {},
   "outputs": [
    {
     "data": {
      "text/html": [
       "<div>\n",
       "<style scoped>\n",
       "    .dataframe tbody tr th:only-of-type {\n",
       "        vertical-align: middle;\n",
       "    }\n",
       "\n",
       "    .dataframe tbody tr th {\n",
       "        vertical-align: top;\n",
       "    }\n",
       "\n",
       "    .dataframe thead th {\n",
       "        text-align: right;\n",
       "    }\n",
       "</style>\n",
       "<table border=\"1\" class=\"dataframe\">\n",
       "  <thead>\n",
       "    <tr style=\"text-align: right;\">\n",
       "      <th></th>\n",
       "      <th>match_id</th>\n",
       "      <th>match_seq_num</th>\n",
       "      <th>radiant_win</th>\n",
       "      <th>start_time</th>\n",
       "      <th>duration</th>\n",
       "      <th>avg_mmr</th>\n",
       "      <th>num_mmr</th>\n",
       "      <th>lobby_type</th>\n",
       "      <th>game_mode</th>\n",
       "      <th>avg_rank_tier</th>\n",
       "      <th>num_rank_tier</th>\n",
       "      <th>cluster</th>\n",
       "      <th>radiant_team</th>\n",
       "      <th>dire_team</th>\n",
       "    </tr>\n",
       "  </thead>\n",
       "  <tbody>\n",
       "    <tr>\n",
       "      <th>0</th>\n",
       "      <td>5496082216</td>\n",
       "      <td>4607663044</td>\n",
       "      <td>False</td>\n",
       "      <td>1593702504</td>\n",
       "      <td>1709</td>\n",
       "      <td>5817</td>\n",
       "      <td>2</td>\n",
       "      <td>7</td>\n",
       "      <td>22</td>\n",
       "      <td>80</td>\n",
       "      <td>6</td>\n",
       "      <td>191</td>\n",
       "      <td>37,86,77,32,106</td>\n",
       "      <td>126,64,45,29,10</td>\n",
       "    </tr>\n",
       "    <tr>\n",
       "      <th>1</th>\n",
       "      <td>5496083619</td>\n",
       "      <td>4607654399</td>\n",
       "      <td>True</td>\n",
       "      <td>1593702543</td>\n",
       "      <td>1262</td>\n",
       "      <td>5303</td>\n",
       "      <td>2</td>\n",
       "      <td>0</td>\n",
       "      <td>4</td>\n",
       "      <td>80</td>\n",
       "      <td>7</td>\n",
       "      <td>134</td>\n",
       "      <td>71,48,49,84,104</td>\n",
       "      <td>73,44,2,100,67</td>\n",
       "    </tr>\n",
       "    <tr>\n",
       "      <th>2</th>\n",
       "      <td>5496086210</td>\n",
       "      <td>4607674334</td>\n",
       "      <td>False</td>\n",
       "      <td>1593702667</td>\n",
       "      <td>2088</td>\n",
       "      <td>3669</td>\n",
       "      <td>1</td>\n",
       "      <td>7</td>\n",
       "      <td>22</td>\n",
       "      <td>80</td>\n",
       "      <td>4</td>\n",
       "      <td>138</td>\n",
       "      <td>111,39,36,51,12</td>\n",
       "      <td>114,86,11,5,89</td>\n",
       "    </tr>\n",
       "    <tr>\n",
       "      <th>3</th>\n",
       "      <td>5496088811</td>\n",
       "      <td>4607671955</td>\n",
       "      <td>True</td>\n",
       "      <td>1593702777</td>\n",
       "      <td>1829</td>\n",
       "      <td>4988</td>\n",
       "      <td>3</td>\n",
       "      <td>7</td>\n",
       "      <td>22</td>\n",
       "      <td>80</td>\n",
       "      <td>6</td>\n",
       "      <td>154</td>\n",
       "      <td>83,39,70,111,65</td>\n",
       "      <td>67,126,99,128,21</td>\n",
       "    </tr>\n",
       "    <tr>\n",
       "      <th>4</th>\n",
       "      <td>5496093104</td>\n",
       "      <td>4607683105</td>\n",
       "      <td>True</td>\n",
       "      <td>1593702950</td>\n",
       "      <td>2260</td>\n",
       "      <td>5415</td>\n",
       "      <td>7</td>\n",
       "      <td>7</td>\n",
       "      <td>3</td>\n",
       "      <td>80</td>\n",
       "      <td>10</td>\n",
       "      <td>236</td>\n",
       "      <td>121,26,53,106,6</td>\n",
       "      <td>59,114,7,29,64</td>\n",
       "    </tr>\n",
       "  </tbody>\n",
       "</table>\n",
       "</div>"
      ],
      "text/plain": [
       "     match_id  match_seq_num  radiant_win  start_time  duration  avg_mmr  \\\n",
       "0  5496082216     4607663044        False  1593702504      1709     5817   \n",
       "1  5496083619     4607654399         True  1593702543      1262     5303   \n",
       "2  5496086210     4607674334        False  1593702667      2088     3669   \n",
       "3  5496088811     4607671955         True  1593702777      1829     4988   \n",
       "4  5496093104     4607683105         True  1593702950      2260     5415   \n",
       "\n",
       "   num_mmr  lobby_type  game_mode  avg_rank_tier  num_rank_tier  cluster  \\\n",
       "0        2           7         22             80              6      191   \n",
       "1        2           0          4             80              7      134   \n",
       "2        1           7         22             80              4      138   \n",
       "3        3           7         22             80              6      154   \n",
       "4        7           7          3             80             10      236   \n",
       "\n",
       "      radiant_team         dire_team  \n",
       "0  37,86,77,32,106   126,64,45,29,10  \n",
       "1  71,48,49,84,104    73,44,2,100,67  \n",
       "2  111,39,36,51,12    114,86,11,5,89  \n",
       "3  83,39,70,111,65  67,126,99,128,21  \n",
       "4  121,26,53,106,6    59,114,7,29,64  "
      ]
     },
     "execution_count": 111,
     "metadata": {},
     "output_type": "execute_result"
    }
   ],
   "source": [
    "matches = pd.DataFrame(res2.json())\n",
    "matches.head()"
   ]
  },
  {
   "cell_type": "markdown",
   "metadata": {},
   "source": [
    "**3. Create a function to retrieve matches data**\n",
    "    - Must receive a number of requests argument\n",
    "    - Cleans the format of the matches data\n",
    "    - Returns a dataframe so we can store the data later to a .csv file"
   ]
  },
  {
   "cell_type": "code",
   "execution_count": 116,
   "metadata": {},
   "outputs": [],
   "source": [
    "import time\n",
    "import pandas as pd\n",
    "import requests as req\n",
    "\n",
    "\n",
    "def get_matches_sample(max_requests: int, folder: str, mmr=3850) -> pd.DataFrame:\n",
    "    \"\"\"\n",
    "    Does a a number of requests to the api denoted by the max_requests argument.\n",
    "    Returns a .csv file containing all the data found.\n",
    "    NOTE: Does not group by unique findings.\n",
    "    NOTE: Number of requests is limited by 50 000 per month\n",
    "    \"\"\"\n",
    "    # data container\n",
    "    matches_data = []\n",
    "    count = 0\n",
    "    while count < max_requests:\n",
    "        # make request\n",
    "        res = req.get(\n",
    "            f\"https://api.opendota.com/api/publicMatches?mmr_descending={mmr}\")\n",
    "        # check for errors in response\n",
    "        if res.status_code == 200:\n",
    "            # extend our data object with response obtained\n",
    "            matches_data.extend(res.json())\n",
    "        else:\n",
    "            # break the loop and end the function\n",
    "            print(f\"There was an error with status_code: {res.status_code}\")\n",
    "            break\n",
    "        count += 1\n",
    "        # waits a second before continuing to limit the number of requests per minute to 60\n",
    "        print(f\"request n° {count}\")\n",
    "        time.sleep(1)\n",
    "    # create DataFrame Object\n",
    "    data = pd.DataFrame(matches_data)\n",
    "    # correct format in heroes list\n",
    "    data = data.replace(r\"\\,\", \"-\", regex=True)\n",
    "    # return our object!\n",
    "    print(\"Saving file..\")\n",
    "    return data.to_csv(f\"{folder}{int(time.time())}.csv\", index=False)"
   ]
  },
  {
   "cell_type": "markdown",
   "metadata": {},
   "source": [
    "**4. Execute the function**"
   ]
  },
  {
   "cell_type": "code",
   "execution_count": 117,
   "metadata": {},
   "outputs": [],
   "source": [
    "get_matches_sample(2, \"../rawdata/\")"
   ]
  },
  {
   "cell_type": "markdown",
   "metadata": {},
   "source": [
    "**5. Check that received data are correct**"
   ]
  },
  {
   "cell_type": "code",
   "execution_count": 4,
   "metadata": {},
   "outputs": [
    {
     "data": {
      "text/html": [
       "<div>\n",
       "<style scoped>\n",
       "    .dataframe tbody tr th:only-of-type {\n",
       "        vertical-align: middle;\n",
       "    }\n",
       "\n",
       "    .dataframe tbody tr th {\n",
       "        vertical-align: top;\n",
       "    }\n",
       "\n",
       "    .dataframe thead th {\n",
       "        text-align: right;\n",
       "    }\n",
       "</style>\n",
       "<table border=\"1\" class=\"dataframe\">\n",
       "  <thead>\n",
       "    <tr style=\"text-align: right;\">\n",
       "      <th></th>\n",
       "      <th>match_id</th>\n",
       "      <th>match_seq_num</th>\n",
       "      <th>radiant_win</th>\n",
       "      <th>start_time</th>\n",
       "      <th>duration</th>\n",
       "      <th>avg_mmr</th>\n",
       "      <th>num_mmr</th>\n",
       "      <th>lobby_type</th>\n",
       "      <th>game_mode</th>\n",
       "      <th>avg_rank_tier</th>\n",
       "      <th>num_rank_tier</th>\n",
       "      <th>cluster</th>\n",
       "      <th>radiant_team</th>\n",
       "      <th>dire_team</th>\n",
       "    </tr>\n",
       "  </thead>\n",
       "  <tbody>\n",
       "    <tr>\n",
       "      <th>0</th>\n",
       "      <td>5496093104</td>\n",
       "      <td>4607683105</td>\n",
       "      <td>True</td>\n",
       "      <td>1593702950</td>\n",
       "      <td>2260</td>\n",
       "      <td>5415</td>\n",
       "      <td>7</td>\n",
       "      <td>7</td>\n",
       "      <td>3</td>\n",
       "      <td>80</td>\n",
       "      <td>10</td>\n",
       "      <td>236</td>\n",
       "      <td>121-26-53-106-6</td>\n",
       "      <td>59-114-7-29-64</td>\n",
       "    </tr>\n",
       "    <tr>\n",
       "      <th>1</th>\n",
       "      <td>5496093106</td>\n",
       "      <td>4607692069</td>\n",
       "      <td>False</td>\n",
       "      <td>1593702953</td>\n",
       "      <td>2576</td>\n",
       "      <td>3962</td>\n",
       "      <td>4</td>\n",
       "      <td>7</td>\n",
       "      <td>22</td>\n",
       "      <td>80</td>\n",
       "      <td>7</td>\n",
       "      <td>122</td>\n",
       "      <td>34-41-121-35-104</td>\n",
       "      <td>60-42-126-128-7</td>\n",
       "    </tr>\n",
       "    <tr>\n",
       "      <th>2</th>\n",
       "      <td>5496093306</td>\n",
       "      <td>4607678647</td>\n",
       "      <td>True</td>\n",
       "      <td>1593702953</td>\n",
       "      <td>1950</td>\n",
       "      <td>3625</td>\n",
       "      <td>1</td>\n",
       "      <td>7</td>\n",
       "      <td>22</td>\n",
       "      <td>80</td>\n",
       "      <td>4</td>\n",
       "      <td>133</td>\n",
       "      <td>7-104-6-79-23</td>\n",
       "      <td>100-126-3-108-1</td>\n",
       "    </tr>\n",
       "    <tr>\n",
       "      <th>3</th>\n",
       "      <td>5496095704</td>\n",
       "      <td>4607694805</td>\n",
       "      <td>True</td>\n",
       "      <td>1593703058</td>\n",
       "      <td>2394</td>\n",
       "      <td>7223</td>\n",
       "      <td>3</td>\n",
       "      <td>7</td>\n",
       "      <td>22</td>\n",
       "      <td>80</td>\n",
       "      <td>6</td>\n",
       "      <td>138</td>\n",
       "      <td>22-86-10-69-5</td>\n",
       "      <td>81-66-106-21-120</td>\n",
       "    </tr>\n",
       "    <tr>\n",
       "      <th>4</th>\n",
       "      <td>5496102206</td>\n",
       "      <td>4607686366</td>\n",
       "      <td>True</td>\n",
       "      <td>1593703331</td>\n",
       "      <td>1967</td>\n",
       "      <td>5626</td>\n",
       "      <td>5</td>\n",
       "      <td>7</td>\n",
       "      <td>22</td>\n",
       "      <td>80</td>\n",
       "      <td>8</td>\n",
       "      <td>156</td>\n",
       "      <td>41-110-36-13-120</td>\n",
       "      <td>9-14-32-10-53</td>\n",
       "    </tr>\n",
       "  </tbody>\n",
       "</table>\n",
       "</div>"
      ],
      "text/plain": [
       "     match_id  match_seq_num  radiant_win  start_time  duration  avg_mmr  \\\n",
       "0  5496093104     4607683105         True  1593702950      2260     5415   \n",
       "1  5496093106     4607692069        False  1593702953      2576     3962   \n",
       "2  5496093306     4607678647         True  1593702953      1950     3625   \n",
       "3  5496095704     4607694805         True  1593703058      2394     7223   \n",
       "4  5496102206     4607686366         True  1593703331      1967     5626   \n",
       "\n",
       "   num_mmr  lobby_type  game_mode  avg_rank_tier  num_rank_tier  cluster  \\\n",
       "0        7           7          3             80             10      236   \n",
       "1        4           7         22             80              7      122   \n",
       "2        1           7         22             80              4      133   \n",
       "3        3           7         22             80              6      138   \n",
       "4        5           7         22             80              8      156   \n",
       "\n",
       "       radiant_team         dire_team  \n",
       "0   121-26-53-106-6    59-114-7-29-64  \n",
       "1  34-41-121-35-104   60-42-126-128-7  \n",
       "2     7-104-6-79-23   100-126-3-108-1  \n",
       "3     22-86-10-69-5  81-66-106-21-120  \n",
       "4  41-110-36-13-120     9-14-32-10-53  "
      ]
     },
     "execution_count": 4,
     "metadata": {},
     "output_type": "execute_result"
    }
   ],
   "source": [
    "pd.read_csv(\"../rawdata/1593961990.csv\").head()"
   ]
  },
  {
   "cell_type": "markdown",
   "metadata": {},
   "source": [
    "**6. Export the data to a .csv file**\n",
    "\n",
    "    The time function gives us the current Datetime in unix format, this way we can organize our data files by the date  we obtained them."
   ]
  },
  {
   "cell_type": "code",
   "execution_count": 119,
   "metadata": {},
   "outputs": [],
   "source": [
    "# data.to_csv(f\"../rawdata/{int(time.time())}.csv\", index=False)"
   ]
  },
  {
   "cell_type": "markdown",
   "metadata": {},
   "source": [
    "**7. Loop our function to keep retrieving data until we are banned :D**"
   ]
  },
  {
   "cell_type": "code",
   "execution_count": null,
   "metadata": {},
   "outputs": [],
   "source": [
    "count = 0\n",
    "\n",
    "while count < 100:\n",
    "    time.sleep(5)\n",
    "    print(f\"try n° {count}\")\n",
    "    get_matches_sample(10800, \"rawdata/\")\n",
    "    count += 1"
   ]
  }
 ],
 "metadata": {
  "kernelspec": {
   "display_name": "Python 3.8.3 64-bit ('ironhack': conda)",
   "language": "python",
   "name": "python38364bitironhackcondae22397c42f6b4fd29a9381c81ac70f68"
  },
  "language_info": {
   "codemirror_mode": {
    "name": "ipython",
    "version": 3
   },
   "file_extension": ".py",
   "mimetype": "text/x-python",
   "name": "python",
   "nbconvert_exporter": "python",
   "pygments_lexer": "ipython3",
   "version": "3.8.3"
  }
 },
 "nbformat": 4,
 "nbformat_minor": 4
}
