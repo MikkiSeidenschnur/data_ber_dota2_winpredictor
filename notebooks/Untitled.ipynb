{
 "cells": [
  {
   "cell_type": "code",
   "execution_count": 2,
   "metadata": {},
   "outputs": [],
   "source": [
    "import requests as req\n",
    "from bs4 import BeautifulSoup\n",
    "import xml"
   ]
  },
  {
   "cell_type": "code",
   "execution_count": 43,
   "metadata": {},
   "outputs": [],
   "source": [
    "headers = {\n",
    "\"Host\": \"www.canva.com\",\n",
    "\"User-Agent\": \"Mozilla/5.0 (Windows NT 10.0; Win64; x64; rv:78.0) Gecko/20100101 Firefox/78.0\",\n",
    "\"Accept\": \"text/html,application/xhtml+xml,application/xml;q=0.9,image/webp,*/*;q=0.8\",\n",
    "\"Accept-Language\": \"en-US;q=0.7,es-MX;q=0.3\",\n",
    "\"Accept-Encoding\": \"gzip, deflate, br\",\n",
    "\"DNT\": \"1\",\n",
    "\"Connection\": \"keep-alive\",\n",
    "\"Cookie\": \"__cfduid=d557bd7daec97405b17ebf6591ccef94d1594020775; CDI=0d6da4e1-e548-4796-bb47-fdda9b01cd78; CPA=GfxkWaPLHoLtWkuQYgPLJwuqrTOiWv27bw-1FeUbOLnSesqZ6zZBXzuSLj4S9-si4S-E6cVX7O-IOUtl2CerHDpx2V2bvwq45pbs2BHvG9YV0YcVboK3WoHnzrYtz6ENnIV8RIx4zUPFO_3W4-VJTd7Xt21HVvjTshGpcYJmraJKfVFHnbs8j-M6YCvY5PctwIP41g; CCK=mKW4EwYb3Pu-rRUMU15uoQ; ajs_user_id=null; ajs_group_id=null; ajs_anonymous_id=%221001c196-fa31-45d1-b82c-17fb4a0ce10d%22; CL=en\",\n",
    "\"Upgrade-Insecure-Requests\": \"0\",\n",
    "\"TE\": \"Trailers\",\n",
    "}"
   ]
  },
  {
   "cell_type": "code",
   "execution_count": 48,
   "metadata": {},
   "outputs": [],
   "source": [
    "res = req.get(\"https://www.canva.com/_ajax/marketplace2/page/token?token=M@CoZJ0Kb3LRcK3w\")"
   ]
  },
  {
   "cell_type": "code",
   "execution_count": 49,
   "metadata": {},
   "outputs": [],
   "source": [
    "soup = BeautifulSoup(res.text, \"xml\")"
   ]
  },
  {
   "cell_type": "code",
   "execution_count": 51,
   "metadata": {},
   "outputs": [
    {
     "data": {
      "text/plain": [
       "<?xml version=\"1.0\" encoding=\"utf-8\"?>\n",
       "<!DOCTYPE html>\n",
       "<!--[if lt IE 7]> <html class=\"no-js ie6 oldie\" lang=\"en-US\"> <![endif]--><!--[if IE 7]>    <html class=\"no-js ie7 oldie\" lang=\"en-US\"> <![endif]--><!--[if IE 8]>    <html class=\"no-js ie8 oldie\" lang=\"en-US\"> <![endif]--><!--[if gt IE 8]><!--><html class=\"no-js\" lang=\"en-US\"> <!--<![endif]-->\n",
       "<head>\n",
       "<title>Attention Required! | Cloudflare</title>\n",
       "<meta id=\"captcha-bypass\" name=\"captcha-bypass\"/>\n",
       "<meta charset=\"UTF-8\"/>\n",
       "<meta content=\"text/html; charset=UTF-8\" http-equiv=\"Content-Type\"/>\n",
       "<meta content=\"IE=Edge,chrome=1\" http-equiv=\"X-UA-Compatible\"/>\n",
       "<meta content=\"noindex, nofollow\" name=\"robots\"/>\n",
       "<meta content=\"width=device-width,initial-scale=1\" name=\"viewport\"/>\n",
       "<link href=\"/cdn-cgi/styles/cf.errors.css\" id=\"cf_styles-css\" media=\"screen,projection\" rel=\"stylesheet\" type=\"text/css\"/>\n",
       "<!--[if lt IE 9]><link rel=\"stylesheet\" id='cf_styles-ie-css' href=\"/cdn-cgi/styles/cf.errors.ie.css\" type=\"text/css\" media=\"screen,projection\" /><![endif]-->\n",
       "<style type=\"text/css\">body{margin:0;padding:0}</style>\n",
       "<!--[if gte IE 10]><!--><script src=\"/cdn-cgi/scripts/zepto.min.js\" type=\"text/javascript\"/><!--<![endif]-->\n",
       "<!--[if gte IE 10]><!--><script src=\"/cdn-cgi/scripts/cf.common.js\" type=\"text/javascript\"/><!--<![endif]-->\n",
       "<style type=\"text/css\">\n",
       "  #cf-wrapper #spinner {width:69px; margin:  auto;}\n",
       "  #cf-wrapper #cf-please-wait{text-align:center}\n",
       "  .attribution {margin-top: 32px;}\n",
       "  .bubbles { background-color: #f58220; width:20px; height: 20px; margin:2px; border-radius:100%; display:inline-block; }\n",
       "  #cf-wrapper #challenge-form { padding-top:25px; padding-bottom:25px; }\n",
       "  #cf-hcaptcha-container { text-align:center;}\n",
       "  #cf-hcaptcha-container iframe { display: inline-block;}\n",
       "  @keyframes fader     { 0% {opacity: 0.2;} 50% {opacity: 1.0;} 100% {opacity: 0.2;} }\n",
       "  #cf-wrapper #cf-bubbles { width:69px; }\n",
       "  @-webkit-keyframes fader { 0% {opacity: 0.2;} 50% {opacity: 1.0;} 100% {opacity: 0.2;} }\n",
       "  #cf-bubbles &gt; .bubbles { animation: fader 1.6s infinite;}\n",
       "  #cf-bubbles &gt; .bubbles:nth-child(2) { animation-delay: .2s;}\n",
       "  #cf-bubbles &gt; .bubbles:nth-child(3) { animation-delay: .4s;}\n",
       "</style>\n",
       "</head>\n",
       "<body>\n",
       "<div id=\"cf-wrapper\">\n",
       "<div class=\"cf-alert cf-alert-error cf-cookie-error\" data-translate=\"enable_cookies\" id=\"cookie-alert\">Please enable cookies.</div>\n",
       "<div class=\"cf-error-details-wrapper\" id=\"cf-error-details\">\n",
       "<div class=\"cf-wrapper cf-header cf-error-overview\">\n",
       "<h1 data-translate=\"challenge_headline\">One more step</h1>\n",
       "<h2 class=\"cf-subheadline\"><span data-translate=\"complete_sec_check\">Please complete the security check to access</span> www.canva.com</h2>\n",
       "</div><!-- /.header -->\n",
       "<div class=\"cf-section cf-highlight cf-captcha-container\">\n",
       "<div class=\"cf-wrapper\">\n",
       "<div class=\"cf-columns two\">\n",
       "<div class=\"cf-column\">\n",
       "<div class=\"cf-highlight-inverse cf-form-stacked\">\n",
       "<form action=\"/_ajax/marketplace2/page/token?token=M@CoZJ0Kb3LRcK3w&amp;__cf_chl_captcha_tk__=8c8eec184874ed9e808994730c4abf7e7bfbb611-1594025436-0-AZ5k0u6cTyeOCE5QziZbglVwhKJXNrySoGmOa0sK0ZUzGzDYlCgiVJeL38AsNVu6q8aa8popDKlZFF9FOnlMFY_aQMF-BEpr0B6H89RkiSljtMpWufEe5_pgnH0BimkF-5D1bdRgiP8lx7tKJ-R8sWgUfrSZeJvlHj7vI74eY3ldlHvjsEXmYrdgWX5KQXdJxwI1IUI7EhAFWjslxGZyZSi-gVzZdzSRRi87Z-aL8jTGoLk9BIvhvJbhuCsDW10PiAvYJj6pmUtRN2Tg1fyijeJy7-VuR0bFTcATm_So8lKFhaTgpSxSRmyN9bmV1y4i4fz1_47sAiVxfxnSvsrVO8nVW1vF-zIq6B8GNLR9R3XAJsUUVEEexmbrFLnnN5nqco6VoWxJ6w8-Lkwr88vcNHGQYr6GJp_cWp4pM6eE2_oAbY_INwrHWXqqCs-Dj7CWcfSm96ZkvL12_RyHF7JTwo3gxHiT5wcxj5YUTsfMcSls7cwN5Z7mzjrbha4P-mW8ZMrxPQuGHA1j2rTPw4DKm28j2QglYVHFj9s8Zlzotbr8yIBqzf0aq7nkc2Nf_Y6qeh9PUxLtj2mJOOkjGVT-OCTVD49tnOYjt1cX5iFJnbEWZuWS-y7_-WSHArdgEKw3kA\" class=\"challenge-form\" enctype=\"application/x-www-form-urlencoded\" id=\"challenge-form\" method=\"POST\">\n",
       "<input name=\"r\" type=\"hidden\" value=\"65200ab0badaff11f8a769ec96571d3305fc3869-1594025436-0-AdY+gj3NeN50iByoyINRAl2i9Gq9BBk2BvmD3ASA6ZRCGBduyaVbJjCY04Un1OR0jq0t4ocFAXEeKYRYJHbgeB6+/NIQrbBxQSpTLKvY8Zwjyvb+7r13iodrK/XEtrCMkbVJVSDo3ZCC3mvUQmFOlIkWregLjKQCNROw95ekerb1NDf7S+TqP6IfOUmDbuU/tQUWFxIiIqh1Pd2RmJM2N7k1s+sPewG/1njwmqbm++SvMvt8R5cSrAOJ3E26L1dIQJyLvJFf8ZUB1uD6Yj0jk9fZeAM6vSifdTSbpeC+iqatMS7FyBnwl35EHPR4RPSBcLqhxeWgOC+ilMC+5vXMVMBHxeL08EMSYuQvd8BnOIfWDB/13472hJd1hRnlP9pXb/NoI+XXMqjTQcoskQhWc1DyhiakHMrZ1n2DeLlmv7cjGEqV9OahIENTdeZmdN8OHlyPjg7TWQ5ruPP1TPnGgvE/5O7Ps+8dSFr1EBAkTTguMSfPLc3ZPk2BhVe+TId3oGoaIqbQBnTy+mhZ2h4RShydnS7dp5lQj+oLPSA8yU5jOPh2WZgczQCk+33k3ywIny3kXkgnjTfllGZiIMiOWAH3xYFJcVDDxnZNEYKUtz1Xw8WZUA/5xANc19/iqetIfYv776zaV2dncFCWWH7YxZVhDlOX5/YhiwZ70AtAFbw5ugbMRGy/63PcBExWc7zzPtc7QrgbSYNCcIBFsdP636vgQfrEKYWzpmaLsQuSgYjMAKFZsDn9TMGIX3d+rS4fEaeFnI/rDTMlZ83J+xoHfmGi8k53S4y84a6klmGZiuWNErRvKDyhPi5dCq8WvcVKUdkj8oIm97DL4lKBehzuVpF5Bm6IKjWS+9hweVw8jVKXMlG/JEZEo3c8GAAv5sYA2WycusJRkMyJay4gvKLi7XmWl4gQvTULcIG3psKrT6QJgFDwgj8V4k9Dh9dBcaRYPN/CBGWiqK69I0+i6stkEG0eHBNDKCY3h416jNVefUQ2KMR0OVK5yaK3HfB8ruqtgaWvqjJle+FQAdHjLpMXqcwX72SAeYXa0bz20nxH7KAKMJx1KeEOH52rpc9rjat1Ixga+0XctTZXlGkoBDSUOL5q5JFeA75YRAL5M7B+AZfXWQbBn+VfWMf8Fclr3hhEiRR/oiXXq4Q/Jf8G2u5yTPSJSgWPS9WYAYneIjE4oIFuK65p/LBwwA2zubDjSGfKR1zmVstp1LqZthcZeb7ST4b54rXBs91mNKoPJ2tRZd82qL3PwVRckWf14wEjGFQHKYebg7KXLXVbCz9wjFGe30ayPO9XJuv6vUpuu0nargVv2CC3LHnfiU65MYhaeuUI3KoBfSHGT8S7S+sQ588u0X9KqaQ7eh/z9r2iZGqkV7Bm\">\n",
       "<input name=\"cf_captcha_kind\" type=\"hidden\" value=\"h\">\n",
       "<input name=\"vc\" type=\"hidden\" value=\"\">\n",
       "<script data-ray=\"5ae8144218f8d121\" data-type=\"normal\" src=\"/cdn-cgi/scripts/hcaptcha.challenge.js\" type=\"text/javascript\">data-sitekey=\"33f96e6a-38cd-421b-bb68-7806e1764460\"&gt;</script>\n",
       "<noscript class=\"cf-captcha-info\" id=\"cf-captcha-bookmark\">\n",
       "<h1 data-translate=\"turn_on_js\" style=\"color:#bd2426;\">Please turn JavaScript on and reload the page.</h1>\n",
       "</noscript>\n",
       "<div data-translate=\"turn_on_cookies\" id=\"no-cookie-warning\" style=\"display:none\">\n",
       "<h1 data-translate=\"turn_on_cookies\" style=\"color:#bd2426;\">Please enable Cookies.</h1>\n",
       "</div>\n",
       "<script type=\"text/javascript\">\n",
       "  //\n",
       "    var a = function() {try{return !!window.addEventListener} catch(e) {return !1} },\n",
       "      b = function(b, c) {a() ? document.addEventListener(\"DOMContentLoaded\", b, c) : document.attachEvent(\"onreadystatechange\", b)};\n",
       "      b(function(){\n",
       "        var cookiesEnabled=(navigator.cookieEnabled)? true : false;\n",
       "        if(!cookiesEnabled){\n",
       "          var q = document.getElementById('no-cookie-warning');q.style.display = 'block';\n",
       "        }\n",
       "      });\n",
       "  //\n",
       "  </script>\n",
       "<div id=\"trk_captcha_js\" style=\"background-image:url('/cdn-cgi/images/trace/captcha/nojs/h/transparent.gif?ray=5ae8144218f8d121')\"/>\n",
       "</input>\n",
       "</input>\n",
       "</input>\n",
       "<div class=\"cf-column\">\n",
       "<div class=\"cf-screenshot-container\">\n",
       "<span class=\"cf-no-screenshot\"/>\n",
       "</div>\n",
       "</div>\n",
       "</form><!-- /.columns -->\n",
       "</div>\n",
       "</div><!-- /.captcha-container -->\n",
       "<div class=\"cf-section cf-wrapper\">\n",
       "<div class=\"cf-columns two\">\n",
       "<div class=\"cf-column\">\n",
       "<h2 data-translate=\"why_captcha_headline\">Why do I have to complete a CAPTCHA?</h2>\n",
       "<p data-translate=\"why_captcha_detail\">Completing the CAPTCHA proves you are a human and gives you temporary access to the web property.</p>\n",
       "</div>\n",
       "<div class=\"cf-column\">\n",
       "<h2 data-translate=\"resolve_captcha_headline\">What can I do to prevent this in the future?</h2>\n",
       "<p data-translate=\"resolve_captcha_antivirus\">If you are on a personal connection, like at home, you can run an anti-virus scan on your device to make sure it is not infected with malware.</p>\n",
       "<p data-translate=\"resolve_captcha_network\">If you are at an office or shared network, you can ask the network administrator to run a scan across the network looking for misconfigured or infected devices.</p>\n",
       "</div>\n",
       "</div>\n",
       "</div><!-- /.section -->\n",
       "<div class=\"cf-error-footer cf-wrapper\">\n",
       "<p>\n",
       "<span class=\"cf-footer-item\">Cloudflare Ray ID: <strong>5ae8144218f8d121</strong></span>\n",
       "<span class=\"cf-footer-separator\"/>\n",
       "<span class=\"cf-footer-item\"><span>Your IP</span>: 185.28.185.82</span>\n",
       "<span class=\"cf-footer-separator\"/>\n",
       "<span class=\"cf-footer-item\"><span>Performance  security by</span> <a href=\"https://www.cloudflare.com/5xx-error-landing?utm_source=error_footer\" id=\"brand_link\" target=\"_blank\">Cloudflare</a></span>\n",
       "</p>\n",
       "</div><!-- /.error-footer -->\n",
       "</div><!-- /#cf-error-details -->\n",
       "</div><!-- /#cf-wrapper -->\n",
       "<script type=\"text/javascript\">\n",
       "  window._cf_translation = {};\n",
       "  \n",
       "  \n",
       "</script>\n",
       "</div>\n",
       "</div></div></body></html>"
      ]
     },
     "execution_count": 51,
     "metadata": {},
     "output_type": "execute_result"
    }
   ],
   "source": [
    "soup"
   ]
  }
 ],
 "metadata": {
  "kernelspec": {
   "display_name": "Python 3.8.3 64-bit ('ironhack': conda)",
   "language": "python",
   "name": "python38364bitironhackcondae22397c42f6b4fd29a9381c81ac70f68"
  },
  "language_info": {
   "codemirror_mode": {
    "name": "ipython",
    "version": 3
   },
   "file_extension": ".py",
   "mimetype": "text/x-python",
   "name": "python",
   "nbconvert_exporter": "python",
   "pygments_lexer": "ipython3",
   "version": "3.8.3"
  }
 },
 "nbformat": 4,
 "nbformat_minor": 4
}
