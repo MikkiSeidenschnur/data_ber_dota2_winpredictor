{
 "cells": [
  {
   "cell_type": "code",
   "execution_count": 2,
   "metadata": {},
   "outputs": [],
   "source": [
    "import requests as req\n",
    "from bs4 import BeautifulSoup\n",
    "import xml"
   ]
  },
  {
   "cell_type": "code",
   "execution_count": 7,
   "metadata": {},
   "outputs": [],
   "source": [
    "headers = {\n",
    "\"Accept\": \"text/html,application/xhtml+xml,application/xml;q=0.9,image/webp,*/*;q=0.8\",\n",
    "\"Accept-Encoding\": \"gzip, deflate, br\",\n",
    "\"Accept-Language\": \"de-DE,en-US;q=0.7,es-MX;q=0.3\",\n",
    "\"Connection\": \"keep-alive\",\n",
    "\"Cookie\":\"__cfduid=d557bd7daec97405b17ebf6591ccef94d1594020775; CDI=0d6da4e1-e548-4796-bb47-fdda9b01cd78; CPA=GfxkWaPLHoLtWkuQYgPLJwuqrTOiWv27bw-1FeUbOLnSesqZ6zZBXzuSLj4S9-si4S-E6cVX7O-IOUtl2CerHDpx2V2bvwq45pbs2BHvG9YV0YcVboK3WoHnzrYtz6ENnIV8RIx4zUPFO_3W4-VJTd7Xt21HVvjTshGpcYJmraJKfVFHnbs8j-M6YCvY5PctwIP41g; CCK=mKW4EwYb3Pu-rRUMU15uoQ; ajs_user_id=null; ajs_group_id=null; ajs_anonymous_id=%221001c196-fa31-45d1-b82c-17fb4a0ce10d%22; CL=en\",\n",
    "\"DNT\": \"1\",\n",
    "\"Host\": \"www.canva.com\",\n",
    "\"TE\": \"Trailers\",\n",
    "\"Upgrade-Insecure-Requests\": \"1\",\n",
    "\"User-Agent\": \"Mozilla/5.0 (Windows NT 10.0; Win64; x64; rv:78.0) Gecko/20100101 Firefox/78.0\",\n",
    "\"token\": \"M@CoZJ0Kb3LRcK3w\"}"
   ]
  },
  {
   "cell_type": "code",
   "execution_count": 13,
   "metadata": {},
   "outputs": [],
   "source": [
    "res = req.get(\"https://www.canva.com/templates/search/posters/\")"
   ]
  },
  {
   "cell_type": "code",
   "execution_count": 15,
   "metadata": {},
   "outputs": [],
   "source": [
    "soup = BeautifulSoup(res.text, \"xml\")"
   ]
  },
  {
   "cell_type": "code",
   "execution_count": 18,
   "metadata": {},
   "outputs": [],
   "source": [
    "soup.find(\"div\", \"OcIJvw n2M9gw\")"
   ]
  }
 ],
 "metadata": {
  "kernelspec": {
   "display_name": "Python 3.8.3 64-bit ('ironhack': conda)",
   "language": "python",
   "name": "python38364bitironhackcondae22397c42f6b4fd29a9381c81ac70f68"
  },
  "language_info": {
   "codemirror_mode": {
    "name": "ipython",
    "version": 3
   },
   "file_extension": ".py",
   "mimetype": "text/x-python",
   "name": "python",
   "nbconvert_exporter": "python",
   "pygments_lexer": "ipython3",
   "version": "3.8.3"
  }
 },
 "nbformat": 4,
 "nbformat_minor": 4
}
