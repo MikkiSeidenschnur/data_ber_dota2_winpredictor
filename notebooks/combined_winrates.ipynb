{
 "cells": [
  {
   "cell_type": "code",
   "execution_count": 1,
   "metadata": {},
   "outputs": [],
   "source": [
    "import pandas as pd\n",
    "import numpy as np\n",
    "\n",
    "#21215 matches to import"
   ]
  },
  {
   "cell_type": "code",
   "execution_count": 2,
   "metadata": {},
   "outputs": [],
   "source": [
    "team_comps = [[22,33,34,55,77],[12,42,52,2,105]]"
   ]
  },
  {
   "cell_type": "code",
   "execution_count": 3,
   "metadata": {},
   "outputs": [],
   "source": [
    "def hero_pairs(team_composition):\n",
    "    list_of_hero_pair = []\n",
    "    for hero1 in team_composition[0]:\n",
    "        for hero2 in team_composition[1]:\n",
    "            list_of_hero_pair.append((hero1,hero2))\n",
    "    return list_of_hero_pair"
   ]
  },
  {
   "cell_type": "code",
   "execution_count": 4,
   "metadata": {},
   "outputs": [],
   "source": [
    "data_test = pd.DataFrame({'hero': [22, 22, 22, 22, 22],\n",
    "                          'hero_vs': [2, 12, 42, 52, 105],\n",
    "                          'total': [10, 2, 1, 8, 4],\n",
    "                          'winrate': [0.6, 0.2, 0.3, 0.8, 0.6]})"
   ]
  },
  {
   "cell_type": "code",
   "execution_count": 5,
   "metadata": {},
   "outputs": [],
   "source": [
    "def winrate_pairs(hero_pairs, dataframe):\n",
    "    pair_winrates = []\n",
    "    winrate = 0\n",
    "    for pair in hero_pairs:\n",
    "        winrate = dataframe.loc[(data_test[\"hero\"] == pair[0]) & (data_test[\"hero_vs\"] == pair[1])][\"winrate\"].values\n",
    "        pair_winrates.append(winrate)\n",
    "    return pair_winrates"
   ]
  },
  {
   "cell_type": "code",
   "execution_count": 6,
   "metadata": {},
   "outputs": [],
   "source": [
    "def combined_winrate(winrate_pairs):\n",
    "    combined_winrate = np.mean(winrate_pairs)\n",
    "    return combined_winrate"
   ]
  },
  {
   "cell_type": "code",
   "execution_count": 11,
   "metadata": {},
   "outputs": [],
   "source": [
    "def winrate_for_team(team_composition, dataframe):\n",
    "    ### first we compute the hero pairs\n",
    "    hero_pair = hero_pairs(team_composition)\n",
    "    ### second we generate the winrate between each hero on radiant and dire\n",
    "    winrate_pair = winrate_pairs(hero_pair,dataframe)\n",
    "    ### third we combine the winrate into a team winrate\n",
    "    team_winrate = combined_winrate(winrate_pair)\n",
    "    return team_winrate"
   ]
  },
  {
   "cell_type": "code",
   "execution_count": 12,
   "metadata": {},
   "outputs": [
    {
     "data": {
      "text/plain": [
       "array([], dtype=float64)"
      ]
     },
     "execution_count": 12,
     "metadata": {},
     "output_type": "execute_result"
    }
   ],
   "source": [
    "winrate_for_team(team_comps, data_test)"
   ]
  },
  {
   "cell_type": "code",
   "execution_count": null,
   "metadata": {},
   "outputs": [],
   "source": []
  }
 ],
 "metadata": {
  "kernelspec": {
   "display_name": "Python 3",
   "language": "python",
   "name": "python3"
  },
  "language_info": {
   "codemirror_mode": {
    "name": "ipython",
    "version": 3
   },
   "file_extension": ".py",
   "mimetype": "text/x-python",
   "name": "python",
   "nbconvert_exporter": "python",
   "pygments_lexer": "ipython3",
   "version": "3.8.3"
  }
 },
 "nbformat": 4,
 "nbformat_minor": 4
}
