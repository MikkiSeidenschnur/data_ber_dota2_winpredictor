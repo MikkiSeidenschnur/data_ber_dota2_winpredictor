{
 "cells": [
  {
   "cell_type": "code",
   "execution_count": 1,
   "metadata": {},
   "outputs": [],
   "source": [
    "import requests as req\n",
    "from bs4 import BeautifulSoup\n",
    "import pandas as pd\n",
    "import time"
   ]
  },
  {
   "cell_type": "markdown",
   "metadata": {},
   "source": [
    "# Matches id\n",
    "    \n",
    "    query_url = \"https://api.opendota.com/api/explorer?sql=SELECT%0A%20%20%20%20%20%20%20%20matches.match_id%20%2C%0Aavg(kills)%20%22AVG%20Kills%22%2C%0Acount(distinct%20matches.match_id)%20count%2C%0Asum(case%20when%20(player_matches.player_slot%20%3C%20128)%20%3D%20radiant_win%20then%201%20else%200%20end)%3A%3Afloat%2Fcount(1)%20winrate%2C%0A((sum(case%20when%20(player_matches.player_slot%20%3C%20128)%20%3D%20radiant_win%20then%201%20else%200%20end)%3A%3Afloat%2Fcount(1))%20%0A%2B%201.96%20*%201.96%20%2F%20(2%20*%20count(1))%20%0A-%201.96%20*%20sqrt((((sum(case%20when%20(player_matches.player_slot%20%3C%20128)%20%3D%20radiant_win%20then%201%20else%200%20end)%3A%3Afloat%2Fcount(1))%20*%20(1%20-%20(sum(case%20when%20(player_matches.player_slot%20%3C%20128)%20%3D%20radiant_win%20then%201%20else%200%20end)%3A%3Afloat%2Fcount(1)))%20%2B%201.96%20*%201.96%20%2F%20(4%20*%20count(1)))%20%2F%20count(1))))%0A%2F%20(1%20%2B%201.96%20*%201.96%20%2F%20count(1))%20winrate_wilson%2C%0Asum(kills)%20sum%2C%0Amin(kills)%20min%2C%0Amax(kills)%20max%2C%0Astddev(kills%3A%3Anumeric)%20stddev%0A%20%20%0AFROM%20matches%0AJOIN%20match_patch%20using(match_id)%0AJOIN%20leagues%20using(leagueid)%0AJOIN%20player_matches%20using(match_id)%0AJOIN%20heroes%20on%20heroes.id%20%3D%20player_matches.hero_id%0ALEFT%20JOIN%20notable_players%20ON%20notable_players.account_id%20%3D%20player_matches.account_id%0ALEFT%20JOIN%20teams%20using(team_id)%0AWHERE%20TRUE%0AAND%20kills%20IS%20NOT%20NULL%20%0AAND%20matches.start_time%20%3E%3D%20extract(epoch%20from%20timestamp%20%272020-01-04T22%3A00%3A00.000Z%27)%0AAND%20matches.start_time%20%3C%3D%20extract(epoch%20from%20timestamp%20%272020-07-05T22%3A00%3A00.000Z%27)%0AGROUP%20BY%20matches.match_id%0AHAVING%20count(distinct%20matches.match_id)%20%3E%3D%201%0AORDER%20BY%20%22AVG%20Kills%22%20DESC%2Ccount%20DESC%20NULLS%20LAST\"\n",
    "    \n",
    "    - Scrape the matches id from the website"
   ]
  },
  {
   "cell_type": "markdown",
   "metadata": {},
   "source": [
    "**1. Create a get_id function**\n",
    "    \n",
    "    - Takes folder path as imput\n",
    "    - Has a range of dates\n",
    "    - Loops each tuple of dates and makes a request to the api\n",
    "    - Drops duplicate records\n",
    "    - Adds the data to a csv file"
   ]
  },
  {
   "cell_type": "code",
   "execution_count": 3,
   "metadata": {},
   "outputs": [],
   "source": [
    "def get_ids(folder: str):\n",
    "    \n",
    "    # our dates\n",
    "    dates = [\n",
    "    (\"2019-07-01\", \"2019-08-01\"), \n",
    "    (\"2019-08-02\", \"2019-09-01\"), \n",
    "    (\"2019-09-02\", \"2019-10-01\"), \n",
    "    (\"2019-10-02\", \"2019-11-01\"), \n",
    "    (\"2019-11-02\", \"2019-12-01\"), \n",
    "    (\"2019-12-02\", \"2020-01-01\"), \n",
    "    (\"2020-01-02\", \"2020-02-01\"), \n",
    "    (\"2020-02-02\", \"2020-03-01\"), \n",
    "    (\"2020-03-02\", \"2020-04-01\"), \n",
    "    (\"2020-04-02\", \"2020-05-01\"), \n",
    "    (\"2020-05-02\", \"2020-06-01\"), \n",
    "    (\"2020-06-02\", \"2020-07-06\"),]\n",
    "    \n",
    "    # data container\n",
    "    match_ids = []\n",
    "    \n",
    "    # get ids\n",
    "    for from_date, to_date in dates:\n",
    "        try:\n",
    "            url = f\"https://api.opendota.com/api/explorer?sql=SELECT%0A%20%20%20%20%20%20%20%20matches.match_id%20%2C%0Aavg(kills)%20%22AVG%20Kills%22%2C%0Acount(distinct%20matches.match_id)%20count%2C%0Asum(case%20when%20(player_matches.player_slot%20%3C%20128)%20%3D%20radiant_win%20then%201%20else%200%20end)%3A%3Afloat%2Fcount(1)%20winrate%2C%0A((sum(case%20when%20(player_matches.player_slot%20%3C%20128)%20%3D%20radiant_win%20then%201%20else%200%20end)%3A%3Afloat%2Fcount(1))%20%0A%2B%201.96%20*%201.96%20%2F%20(2%20*%20count(1))%20%0A-%201.96%20*%20sqrt((((sum(case%20when%20(player_matches.player_slot%20%3C%20128)%20%3D%20radiant_win%20then%201%20else%200%20end)%3A%3Afloat%2Fcount(1))%20*%20(1%20-%20(sum(case%20when%20(player_matches.player_slot%20%3C%20128)%20%3D%20radiant_win%20then%201%20else%200%20end)%3A%3Afloat%2Fcount(1)))%20%2B%201.96%20*%201.96%20%2F%20(4%20*%20count(1)))%20%2F%20count(1))))%0A%2F%20(1%20%2B%201.96%20*%201.96%20%2F%20count(1))%20winrate_wilson%2C%0Asum(kills)%20sum%2C%0Amin(kills)%20min%2C%0Amax(kills)%20max%2C%0Astddev(kills%3A%3Anumeric)%20stddev%0A%20%20%0AFROM%20matches%0AJOIN%20match_patch%20using(match_id)%0AJOIN%20leagues%20using(leagueid)%0AJOIN%20player_matches%20using(match_id)%0AJOIN%20heroes%20on%20heroes.id%20%3D%20player_matches.hero_id%0ALEFT%20JOIN%20notable_players%20ON%20notable_players.account_id%20%3D%20player_matches.account_id%0ALEFT%20JOIN%20teams%20using(team_id)%0AWHERE%20TRUE%0AAND%20kills%20IS%20NOT%20NULL%20%0AAND%20matches.start_time%20%3E%3D%20extract(epoch%20from%20timestamp%20%27{from_date}T22%3A00%3A00.000Z%27)%0AAND%20matches.start_time%20%3C%3D%20extract(epoch%20from%20timestamp%20%27{to_date}T22%3A00%3A00.000Z%27)%0AGROUP%20BY%20matches.match_id%0AHAVING%20count(distinct%20matches.match_id)%20%3E%3D%201%0AORDER%20BY%20%22AVG%20Kills%22%20DESC%2Ccount%20DESC%20NULLS%20LAST\"\n",
    "            res = req.get(url)\n",
    "            match_ids.extend([x[\"match_id\"] for x in res.json()[\"rows\"]])\n",
    "        except:\n",
    "            print(f\"There was an error code {res.status_code}\")\n",
    "    data = pd.DataFrame({\"match_id\": match_ids})\n",
    "    data = data.drop_duplicates()\n",
    "    data.to_csv(f\"{folder}matches_ids.csv\", index=False)\n",
    "    return \"Done.\""
   ]
  },
  {
   "cell_type": "markdown",
   "metadata": {},
   "source": [
    "**2. Execute our function**"
   ]
  },
  {
   "cell_type": "code",
   "execution_count": 4,
   "metadata": {},
   "outputs": [
    {
     "data": {
      "text/plain": [
       "'Done.'"
      ]
     },
     "execution_count": 4,
     "metadata": {},
     "output_type": "execute_result"
    }
   ],
   "source": [
    "get_ids(\"../matchesdata/\")"
   ]
  },
  {
   "cell_type": "markdown",
   "metadata": {},
   "source": [
    "**3. Check data integrity**"
   ]
  },
  {
   "cell_type": "code",
   "execution_count": 12,
   "metadata": {},
   "outputs": [
    {
     "data": {
      "text/html": [
       "<div>\n",
       "<style scoped>\n",
       "    .dataframe tbody tr th:only-of-type {\n",
       "        vertical-align: middle;\n",
       "    }\n",
       "\n",
       "    .dataframe tbody tr th {\n",
       "        vertical-align: top;\n",
       "    }\n",
       "\n",
       "    .dataframe thead th {\n",
       "        text-align: right;\n",
       "    }\n",
       "</style>\n",
       "<table border=\"1\" class=\"dataframe\">\n",
       "  <thead>\n",
       "    <tr style=\"text-align: right;\">\n",
       "      <th></th>\n",
       "      <th>match_id</th>\n",
       "    </tr>\n",
       "  </thead>\n",
       "  <tbody>\n",
       "    <tr>\n",
       "      <th>0</th>\n",
       "      <td>4935182858</td>\n",
       "    </tr>\n",
       "    <tr>\n",
       "      <th>1</th>\n",
       "      <td>4912193975</td>\n",
       "    </tr>\n",
       "    <tr>\n",
       "      <th>2</th>\n",
       "      <td>4939511813</td>\n",
       "    </tr>\n",
       "    <tr>\n",
       "      <th>3</th>\n",
       "      <td>4910831000</td>\n",
       "    </tr>\n",
       "    <tr>\n",
       "      <th>4</th>\n",
       "      <td>4926760335</td>\n",
       "    </tr>\n",
       "    <tr>\n",
       "      <th>...</th>\n",
       "      <td>...</td>\n",
       "    </tr>\n",
       "    <tr>\n",
       "      <th>21209</th>\n",
       "      <td>5469791555</td>\n",
       "    </tr>\n",
       "    <tr>\n",
       "      <th>21210</th>\n",
       "      <td>5499466933</td>\n",
       "    </tr>\n",
       "    <tr>\n",
       "      <th>21211</th>\n",
       "      <td>5484678354</td>\n",
       "    </tr>\n",
       "    <tr>\n",
       "      <th>21212</th>\n",
       "      <td>5462716366</td>\n",
       "    </tr>\n",
       "    <tr>\n",
       "      <th>21213</th>\n",
       "      <td>5472240358</td>\n",
       "    </tr>\n",
       "  </tbody>\n",
       "</table>\n",
       "<p>21214 rows × 1 columns</p>\n",
       "</div>"
      ],
      "text/plain": [
       "         match_id\n",
       "0      4935182858\n",
       "1      4912193975\n",
       "2      4939511813\n",
       "3      4910831000\n",
       "4      4926760335\n",
       "...           ...\n",
       "21209  5469791555\n",
       "21210  5499466933\n",
       "21211  5484678354\n",
       "21212  5462716366\n",
       "21213  5472240358\n",
       "\n",
       "[21214 rows x 1 columns]"
      ]
     },
     "execution_count": 12,
     "metadata": {},
     "output_type": "execute_result"
    }
   ],
   "source": [
    "id_list = pd.read_csv(\"../matchesdata/matches_ids.csv\")\n",
    "id_list"
   ]
  },
  {
   "cell_type": "markdown",
   "metadata": {},
   "source": [
    "# Matches Info\n",
    "    \n",
    "    url:  f\"https://api.opendota.com/api/matches/{match_id}\"\n",
    "    folder: \"../matchesdata/\"\n",
    "    \n",
    "    - Request to the api matches per match_id\n",
    "    - Every iteration substract\n",
    "        - \"match_id\"\n",
    "        - \"victor_team\"\n",
    "        - \"radiant_team\"\n",
    "        - \"dire_team\"\n",
    "    - Save the matches to a .csv file"
   ]
  },
  {
   "cell_type": "code",
   "execution_count": 18,
   "metadata": {},
   "outputs": [],
   "source": [
    "# id 5497477213\n",
    "def get_matches_id(id_list: list, folder: str):\n",
    "    done = False\n",
    "    error = \"\"\n",
    "    \n",
    "    # containers\n",
    "    victor_teams = []\n",
    "    radiant_teams = []\n",
    "    dire_teams = []\n",
    "    \n",
    "    # extract each match in the list\n",
    "    for i, match_id in enumerate(id_list):\n",
    "        \n",
    "        # make request\n",
    "        res = req.get(f\"https://api.opendota.com/api/matches/{match_id}\")\n",
    "        \n",
    "        # check for errors\n",
    "        if res.status_code == 200:\n",
    "            \n",
    "            # extract useful data\n",
    "            victor_teams.append(\"Radiant\" if res.json()[\"radiant_win\"] == True else \"Dire\")\n",
    "            radiant_teams.append('-'.join([str(x[\"hero_id\"]) for x in res.json()[\"players\"] if x[\"isRadiant\"] == True]))\n",
    "            dire_teams.append('-'.join([str(x[\"hero_id\"]) for x in res.json()[\"players\"] if x[\"isRadiant\"] == False]))\n",
    "            \n",
    "            done = True\n",
    "        else:\n",
    "            error = f\"{res.status_code}\"\n",
    "            done = False\n",
    "            \n",
    "        # wait a second\n",
    "        time.sleep(1)\n",
    "            \n",
    "        # log request number\n",
    "        print(f\"request n° {i+1}\")\n",
    "    # create data frame\n",
    "    print(\"Creating DataFrame..\")\n",
    "    data = pd.DataFrame({\n",
    "        \"match_id\": id_list, \n",
    "        \"victor_team\": victor_teams, \n",
    "        \"radiant_team\": radiant_teams, \n",
    "        \"dire_team\": dire_teams,\n",
    "    })\n",
    "    \n",
    "    # export csv file\n",
    "    print(\"Saving file..\")\n",
    "    data.to_csv(f\"{folder}{int(time.time())}.csv\", index=False)\n",
    "    \n",
    "    # end\n",
    "    return \"Done\" if done == True else f\"Error {error}\""
   ]
  },
  {
   "cell_type": "markdown",
   "metadata": {},
   "source": [
    "**Test the function**"
   ]
  },
  {
   "cell_type": "code",
   "execution_count": 19,
   "metadata": {},
   "outputs": [
    {
     "name": "stdout",
     "output_type": "stream",
     "text": [
      "request n° 1\n",
      "Creating DataFrame..\n",
      "Saving file..\n"
     ]
    },
    {
     "data": {
      "text/plain": [
       "'Done'"
      ]
     },
     "execution_count": 19,
     "metadata": {},
     "output_type": "execute_result"
    }
   ],
   "source": [
    "get_matches_id([5497477213], \"../matchesdata/\")"
   ]
  },
  {
   "cell_type": "markdown",
   "metadata": {},
   "source": [
    "**Check result**"
   ]
  },
  {
   "cell_type": "code",
   "execution_count": 20,
   "metadata": {},
   "outputs": [
    {
     "data": {
      "text/html": [
       "<div>\n",
       "<style scoped>\n",
       "    .dataframe tbody tr th:only-of-type {\n",
       "        vertical-align: middle;\n",
       "    }\n",
       "\n",
       "    .dataframe tbody tr th {\n",
       "        vertical-align: top;\n",
       "    }\n",
       "\n",
       "    .dataframe thead th {\n",
       "        text-align: right;\n",
       "    }\n",
       "</style>\n",
       "<table border=\"1\" class=\"dataframe\">\n",
       "  <thead>\n",
       "    <tr style=\"text-align: right;\">\n",
       "      <th></th>\n",
       "      <th>match_id</th>\n",
       "      <th>victor_team</th>\n",
       "      <th>radiant_team</th>\n",
       "      <th>dire_team</th>\n",
       "    </tr>\n",
       "  </thead>\n",
       "  <tbody>\n",
       "    <tr>\n",
       "      <th>0</th>\n",
       "      <td>5497477213</td>\n",
       "      <td>Dire</td>\n",
       "      <td>25-16-44-106-68</td>\n",
       "      <td>9-5-17-8-98</td>\n",
       "    </tr>\n",
       "  </tbody>\n",
       "</table>\n",
       "</div>"
      ],
      "text/plain": [
       "     match_id victor_team     radiant_team    dire_team\n",
       "0  5497477213        Dire  25-16-44-106-68  9-5-17-8-98"
      ]
     },
     "execution_count": 20,
     "metadata": {},
     "output_type": "execute_result"
    }
   ],
   "source": [
    "pd.read_csv(\"../matchesdata/1594059904.csv\")"
   ]
  }
 ],
 "metadata": {
  "kernelspec": {
   "display_name": "Python 3.8.3 64-bit ('ironhack': conda)",
   "language": "python",
   "name": "python38364bitironhackcondae22397c42f6b4fd29a9381c81ac70f68"
  },
  "language_info": {
   "codemirror_mode": {
    "name": "ipython",
    "version": 3
   },
   "file_extension": ".py",
   "mimetype": "text/x-python",
   "name": "python",
   "nbconvert_exporter": "python",
   "pygments_lexer": "ipython3",
   "version": "3.8.3"
  }
 },
 "nbformat": 4,
 "nbformat_minor": 4
}
